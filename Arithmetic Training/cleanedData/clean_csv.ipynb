{
 "cells": [
  {
   "cell_type": "code",
   "execution_count": 8,
   "id": "initial_id",
   "metadata": {
    "collapsed": true,
    "ExecuteTime": {
     "end_time": "2024-07-16T19:29:06.144139Z",
     "start_time": "2024-07-16T19:29:06.134538Z"
    }
   },
   "outputs": [],
   "source": [
    "import pandas as pd\n",
    "from word2number import w2n"
   ]
  },
  {
   "cell_type": "code",
   "outputs": [],
   "source": [
    "def convert_to_num(text: str):\n",
    "    for c in text:\n",
    "        if c.isnumeric():\n",
    "            return text\n",
    "        \n",
    "    return str(w2n.word_to_num(text))\n",
    "\n",
    "def clean_text(text: str):\n",
    "    return text.replace(',', '').replace(' ', '')\n",
    "\n",
    "def convert(text: str):\n",
    "    return int(clean_text(convert_to_num(str(text))))\n",
    "    "
   ],
   "metadata": {
    "collapsed": false,
    "ExecuteTime": {
     "end_time": "2024-07-16T19:55:41.829035Z",
     "start_time": "2024-07-16T19:55:41.821407Z"
    }
   },
   "id": "5f26541d16c3e65a",
   "execution_count": 80
  },
  {
   "cell_type": "code",
   "outputs": [],
   "source": [
    "ds_name = '5dsDataset200'\n",
    "\n",
    "df = pd.read_csv(ds_name + '.csv')\n",
    "df['gpt4_answer'] = df['gpt4_answer'].apply(convert)\n",
    "df['is_correct'] = df.apply(lambda row: row.gpt4_answer == row.expected_answer, axis=1)\n",
    "\n",
    "df.to_csv(ds_name + '_clean.csv')"
   ],
   "metadata": {
    "collapsed": false,
    "ExecuteTime": {
     "end_time": "2024-07-16T19:57:31.229287Z",
     "start_time": "2024-07-16T19:57:31.216748Z"
    }
   },
   "id": "698c3d58d4ed92b5",
   "execution_count": 98
  },
  {
   "cell_type": "code",
   "outputs": [
    {
     "name": "stdout",
     "output_type": "stream",
     "text": [
      "Acc: 0.94%\n"
     ]
    }
   ],
   "source": [
    "num_true = df['is_correct'].values.sum()\n",
    "num_false = (~df['is_correct']).values.sum()\n",
    "\n",
    "print(\"Acc: %.2f%%\" % (num_true / (num_true + num_false)))"
   ],
   "metadata": {
    "collapsed": false,
    "ExecuteTime": {
     "end_time": "2024-07-16T19:57:32.209134Z",
     "start_time": "2024-07-16T19:57:32.203136Z"
    }
   },
   "id": "6caa31ee9fa9bdfe",
   "execution_count": 99
  },
  {
   "cell_type": "code",
   "outputs": [
    {
     "data": {
      "text/plain": "is_correct\nTrue    200\nName: count, dtype: int64"
     },
     "execution_count": 88,
     "metadata": {},
     "output_type": "execute_result"
    }
   ],
   "source": [
    "df['is_correct'].value_counts()"
   ],
   "metadata": {
    "collapsed": false,
    "ExecuteTime": {
     "end_time": "2024-07-16T19:56:19.065759Z",
     "start_time": "2024-07-16T19:56:19.059888Z"
    }
   },
   "id": "7d07e7a5a42cfe9a",
   "execution_count": 88
  },
  {
   "cell_type": "code",
   "outputs": [],
   "source": [],
   "metadata": {
    "collapsed": false
   },
   "id": "b44001961a5c546c"
  }
 ],
 "metadata": {
  "kernelspec": {
   "display_name": "Python 3",
   "language": "python",
   "name": "python3"
  },
  "language_info": {
   "codemirror_mode": {
    "name": "ipython",
    "version": 2
   },
   "file_extension": ".py",
   "mimetype": "text/x-python",
   "name": "python",
   "nbconvert_exporter": "python",
   "pygments_lexer": "ipython2",
   "version": "2.7.6"
  }
 },
 "nbformat": 4,
 "nbformat_minor": 5
}
